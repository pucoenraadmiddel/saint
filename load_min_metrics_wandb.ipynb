{
 "cells": [
  {
   "cell_type": "code",
   "execution_count": 19,
   "metadata": {},
   "outputs": [],
   "source": [
    "import wandb"
   ]
  },
  {
   "cell_type": "code",
   "execution_count": 20,
   "metadata": {},
   "outputs": [],
   "source": [
    "name='middelman'\n",
    "project=\"saint_rossmann_mse\"\n",
    "sweep_id = \"50p3fsjs\""
   ]
  },
  {
   "cell_type": "code",
   "execution_count": 24,
   "metadata": {},
   "outputs": [
    {
     "name": "stdout",
     "output_type": "stream",
     "text": [
      "<Runs middelman/saint_rossmann_mse>\n"
     ]
    }
   ],
   "source": [
    "# Fetch the runs in the sweep\n",
    "api = wandb.Api()\n",
    "sweep = api.sweep(f\"{name}/{project}/{sweep_id}\")\n",
    "runs = sweep.runs\n",
    "print(runs)"
   ]
  },
  {
   "cell_type": "code",
   "execution_count": 25,
   "metadata": {},
   "outputs": [],
   "source": [
    "def get_min_rmse(run):\n",
    "    history = run.history()\n",
    "    rmse_columns = [col for col in history.columns if 'rmse' in col.lower()]\n",
    "\n",
    "    if len(rmse_columns) == 0:\n",
    "        print(f\"Run {run.id}: RMSE column not found.\")\n",
    "        return None\n",
    "    else:\n",
    "        min_rmse_values = {col: history[col].min() for col in rmse_columns}\n",
    "        return min_rmse_values\n"
   ]
  },
  {
   "cell_type": "code",
   "execution_count": 26,
   "metadata": {},
   "outputs": [
    {
     "name": "stdout",
     "output_type": "stream",
     "text": [
      "Run o486ygil: {'orig_train_rmse': 363.8901062011719, 'train_rmse': 0.047290731221437454, 'valid_rmse': 0.09167309105396271, 'orig_test_rmse': 641.9308471679688, 'orig_valid_rmse': 648.5728759765625, 'test_rmse': 0.09176694601774216}\n",
      "Run rpzxauxi: {'test_rmse_bestep': 0.09759525954723358, 'orig_test_rmse': 702.3630981445312, 'orig_train_rmse': 615.7182006835938, 'test_rmse': 0.09759525954723358, 'train_rmse': 0.08731643855571747, 'valid_rmse': 0.09689170867204666, 'orig_valid_rmse': 700.3922119140625, 'valid_rmse_best': 0.09689170867204666}\n",
      "Run prwrwhq1: {'valid_rmse': 0.09615033119916916, 'test_rmse': 0.09634371101856232, 'train_rmse': 0.0676126554608345, 'orig_valid_rmse': 687.7761840820312, 'valid_rmse_best': 0.09615033119916916, 'orig_test_rmse': 690.8421020507812, 'orig_train_rmse': 482.02899169921875, 'test_rmse_bestep': 0.09634371101856232}\n",
      "Run 4bc761km: {'valid_rmse_best': 0.08967126160860062, 'test_rmse_bestep': 0.08972467482089996, 'orig_train_rmse': 403.722412109375, 'valid_rmse': 0.08967126160860062, 'orig_test_rmse': 624.20654296875, 'test_rmse': 0.08972467482089996, 'orig_valid_rmse': 632.635009765625, 'train_rmse': 0.05622340738773346}\n",
      "Run 8vpirup9: {'train_rmse': 0.03829331696033478, 'valid_rmse_best': 0.08902519196271896, 'orig_test_rmse': 613.7808227539062, 'orig_train_rmse': 291.3564453125, 'orig_valid_rmse': 621.2706298828125, 'test_rmse': 0.08912744373083115, 'valid_rmse': 0.08902519196271896, 'test_rmse_bestep': 0.08943118900060654}\n",
      "Run avtzqa1f: {'test_rmse': 0.11310287564992905, 'valid_rmse': 0.11128132790327072, 'orig_train_rmse': 547.5801391601562, 'test_rmse_bestep': 0.11310287564992905, 'train_rmse': 0.07734578102827072, 'orig_test_rmse': 844.0816040039062, 'orig_valid_rmse': 829.1829833984375, 'valid_rmse_best': 0.11128132790327072}\n",
      "Run 48cdbuke: {'valid_rmse': 0.08642960339784622, 'train_rmse': 0.04721032828092575, 'valid_rmse_best': 0.08642960339784622, 'test_rmse_bestep': 0.08685652911663055, 'orig_train_rmse': 341.18316650390625, 'orig_test_rmse': 601.6541748046875, 'orig_valid_rmse': 611.6865234375, 'test_rmse': 0.08685652911663055}\n",
      "Run 52i23bfi: {'train_rmse': 0.17215847969055176, 'valid_rmse_best': 0.17653116583824158, 'test_rmse_bestep': 0.1752767115831375, 'orig_train_rmse': 1302.7911376953125, 'valid_rmse': 0.17653116583824158, 'orig_test_rmse': 1310.8995361328125, 'orig_valid_rmse': 1326.3096923828125, 'test_rmse': 0.1752767115831375}\n",
      "Run 84t6gvms: {'test_rmse': 0.17488041520118713, 'orig_valid_rmse': 1328.288818359375, 'test_rmse_bestep': 0.1750122308731079, 'orig_test_rmse': 1264.81494140625, 'valid_rmse': 0.17776574194431305, 'orig_train_rmse': 766.2684936523438, 'valid_rmse_best': 0.17776574194431305, 'train_rmse': 0.10497390478849411}\n",
      "Run na5tditz: {'orig_test_rmse': 730.0433959960938, 'orig_train_rmse': 519.2070922851562, 'test_rmse': 0.10577588528394699, 'valid_rmse': 0.10401173681020737, 'train_rmse': 0.07229851931333542, 'orig_valid_rmse': 727.6524047851562, 'valid_rmse_best': 0.10401173681020737, 'test_rmse_bestep': 0.10590481013059616}\n"
     ]
    }
   ],
   "source": [
    "#print all run names and their RMSE values\n",
    "for run in runs:\n",
    "    min_rmse_values = get_min_rmse(run)\n",
    "    if min_rmse_values is not None:\n",
    "        print(f\"Run {run.id}: {min_rmse_values}\")"
   ]
  },
  {
   "cell_type": "code",
   "execution_count": 27,
   "metadata": {},
   "outputs": [
    {
     "name": "stdout",
     "output_type": "stream",
     "text": [
      "Run o486ygil: Minimum RMSE values logged: {'orig_train_rmse': 363.8901062011719, 'train_rmse': 0.047290731221437454, 'valid_rmse': 0.09167309105396271, 'orig_test_rmse': 641.9308471679688, 'orig_valid_rmse': 648.5728759765625, 'test_rmse': 0.09176694601774216}\n",
      "Run rpzxauxi: Minimum RMSE values logged: {'test_rmse_bestep': 0.09759525954723358, 'orig_test_rmse': 702.3630981445312, 'orig_train_rmse': 615.7182006835938, 'test_rmse': 0.09759525954723358, 'train_rmse': 0.08731643855571747, 'valid_rmse': 0.09689170867204666, 'orig_valid_rmse': 700.3922119140625, 'valid_rmse_best': 0.09689170867204666}\n",
      "Run prwrwhq1: Minimum RMSE values logged: {'valid_rmse': 0.09615033119916916, 'test_rmse': 0.09634371101856232, 'train_rmse': 0.0676126554608345, 'orig_valid_rmse': 687.7761840820312, 'valid_rmse_best': 0.09615033119916916, 'orig_test_rmse': 690.8421020507812, 'orig_train_rmse': 482.02899169921875, 'test_rmse_bestep': 0.09634371101856232}\n",
      "Run 4bc761km: Minimum RMSE values logged: {'valid_rmse_best': 0.08967126160860062, 'test_rmse_bestep': 0.08972467482089996, 'orig_train_rmse': 403.722412109375, 'valid_rmse': 0.08967126160860062, 'orig_test_rmse': 624.20654296875, 'test_rmse': 0.08972467482089996, 'orig_valid_rmse': 632.635009765625, 'train_rmse': 0.05622340738773346}\n",
      "Run 8vpirup9: Minimum RMSE values logged: {'train_rmse': 0.03829331696033478, 'valid_rmse_best': 0.08902519196271896, 'orig_test_rmse': 613.7808227539062, 'orig_train_rmse': 291.3564453125, 'orig_valid_rmse': 621.2706298828125, 'test_rmse': 0.08912744373083115, 'valid_rmse': 0.08902519196271896, 'test_rmse_bestep': 0.08943118900060654}\n",
      "Run avtzqa1f: Minimum RMSE values logged: {'test_rmse': 0.11310287564992905, 'valid_rmse': 0.11128132790327072, 'orig_train_rmse': 547.5801391601562, 'test_rmse_bestep': 0.11310287564992905, 'train_rmse': 0.07734578102827072, 'orig_test_rmse': 844.0816040039062, 'orig_valid_rmse': 829.1829833984375, 'valid_rmse_best': 0.11128132790327072}\n",
      "Run 48cdbuke: Minimum RMSE values logged: {'valid_rmse': 0.08642960339784622, 'train_rmse': 0.04721032828092575, 'valid_rmse_best': 0.08642960339784622, 'test_rmse_bestep': 0.08685652911663055, 'orig_train_rmse': 341.18316650390625, 'orig_test_rmse': 601.6541748046875, 'orig_valid_rmse': 611.6865234375, 'test_rmse': 0.08685652911663055}\n",
      "Run 52i23bfi: Minimum RMSE values logged: {'train_rmse': 0.17215847969055176, 'valid_rmse_best': 0.17653116583824158, 'test_rmse_bestep': 0.1752767115831375, 'orig_train_rmse': 1302.7911376953125, 'valid_rmse': 0.17653116583824158, 'orig_test_rmse': 1310.8995361328125, 'orig_valid_rmse': 1326.3096923828125, 'test_rmse': 0.1752767115831375}\n",
      "Run 84t6gvms: Minimum RMSE values logged: {'test_rmse': 0.17488041520118713, 'orig_valid_rmse': 1328.288818359375, 'test_rmse_bestep': 0.1750122308731079, 'orig_test_rmse': 1264.81494140625, 'valid_rmse': 0.17776574194431305, 'orig_train_rmse': 766.2684936523438, 'valid_rmse_best': 0.17776574194431305, 'train_rmse': 0.10497390478849411}\n",
      "Run na5tditz: Minimum RMSE values logged: {'orig_test_rmse': 730.0433959960938, 'orig_train_rmse': 519.2070922851562, 'test_rmse': 0.10577588528394699, 'valid_rmse': 0.10401173681020737, 'train_rmse': 0.07229851931333542, 'orig_valid_rmse': 727.6524047851562, 'valid_rmse_best': 0.10401173681020737, 'test_rmse_bestep': 0.10590481013059616}\n"
     ]
    }
   ],
   "source": [
    "for run in runs:\n",
    "    min_rmse_values = get_min_rmse(run)\n",
    "\n",
    "    if min_rmse_values is not None:\n",
    "        # Log the minimum RMSE for each column back to the run\n",
    "        metadata = {f\"min_{col}\": min_rmse for col, min_rmse in min_rmse_values.items()}\n",
    "        run.summary.update(metadata)\n",
    "        run.update()\n",
    "        print(f\"Run {run.id}: Minimum RMSE values logged: {min_rmse_values}\")\n",
    "    else:\n",
    "        print(f\"Run {run.id}: Minimum RMSE values not logged due to missing RMSE columns.\")\n"
   ]
  }
 ],
 "metadata": {
  "kernelspec": {
   "display_name": "saint_env",
   "language": "python",
   "name": "python3"
  },
  "language_info": {
   "codemirror_mode": {
    "name": "ipython",
    "version": 3
   },
   "file_extension": ".py",
   "mimetype": "text/x-python",
   "name": "python",
   "nbconvert_exporter": "python",
   "pygments_lexer": "ipython3",
   "version": "3.8.10"
  },
  "orig_nbformat": 4,
  "vscode": {
   "interpreter": {
    "hash": "f396713510138f7b8b655245407991f6a9390dac26ef35fd9f437967addbf6b6"
   }
  }
 },
 "nbformat": 4,
 "nbformat_minor": 2
}
