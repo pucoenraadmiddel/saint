{
 "cells": [
  {
   "cell_type": "code",
   "execution_count": 11,
   "metadata": {},
   "outputs": [],
   "source": [
    "import wandb\n"
   ]
  },
  {
   "cell_type": "code",
   "execution_count": 12,
   "metadata": {},
   "outputs": [],
   "source": [
    "api = wandb.Api()\n",
    "\n",
    "project_name = \"middelman/saint_rossmann_mse\"\n",
    "metric_name = \"orig_valid_rmse\"\n",
    "saint_runs = api.runs(project_name)"
   ]
  },
  {
   "cell_type": "code",
   "execution_count": 13,
   "metadata": {},
   "outputs": [],
   "source": [
    "sorted_saint_runs = sorted(\n",
    "    saint_runs, key=lambda r: r.summary.get(metric_name, float(\"inf\"))\n",
    ")"
   ]
  },
  {
   "cell_type": "code",
   "execution_count": 14,
   "metadata": {},
   "outputs": [
    {
     "data": {
      "text/plain": [
       "'48cdbuke'"
      ]
     },
     "execution_count": 14,
     "metadata": {},
     "output_type": "execute_result"
    }
   ],
   "source": [
    "sorted_saint_runs[0].id"
   ]
  },
  {
   "cell_type": "code",
   "execution_count": 29,
   "metadata": {},
   "outputs": [
    {
     "name": "stdout",
     "output_type": "stream",
     "text": [
      "623.9197387695312\n"
     ]
    }
   ],
   "source": [
    "#Get the best run from a sweep\n",
    "\n",
    "sweep_id = \"middelman/saint_rossmann_mse/50p3fsjs\"\n",
    "\n",
    "sweep = api.sweep(sweep_id)\n",
    "\n",
    "best_run = sorted(\n",
    "    sweep.runs, key=lambda r: r.summary.get(metric_name, float(\"inf\"))\n",
    ")[0]\n",
    "\n",
    "print(best_run.summary[metric_name])\n"
   ]
  },
  {
   "cell_type": "code",
   "execution_count": 30,
   "metadata": {},
   "outputs": [
    {
     "name": "stdout",
     "output_type": "stream",
     "text": [
      "{'active_log': True,\n",
      " 'attention_dropout': 0.45981794326954567,\n",
      " 'attention_heads': 7,\n",
      " 'attentiontype': 'colrow',\n",
      " 'batchsize': 258,\n",
      " 'cont_embeddings': 'MLP',\n",
      " 'dset_seed': 42,\n",
      " 'embedding_size': 43,\n",
      " 'epochs': 113,\n",
      " 'ff_dropout': 0.36833501402934365,\n",
      " 'final_mlp_style': 'sep',\n",
      " 'lam0': 0.5,\n",
      " 'lam1': 10,\n",
      " 'lam2': 1,\n",
      " 'lam3': 10,\n",
      " 'lr': 0.00031024476896993704,\n",
      " 'mask_prob': 0,\n",
      " 'mixup_lam': 0.3,\n",
      " 'nce_temp': 0.7,\n",
      " 'optimizer': 'AdamW',\n",
      " 'pretrain': False,\n",
      " 'pretrain_epochs': 50,\n",
      " 'pt_aug': [],\n",
      " 'pt_aug_lam': 0.1,\n",
      " 'pt_projhead_style': 'diff',\n",
      " 'pt_tasks': ['contrastive', 'denoising'],\n",
      " 'run_name': 'Rossmann',\n",
      " 'savemodelroot': '/home/coenraadmiddel/Documents/RossmannStoreSales/SAINT/saint/bestmodels/regression/',\n",
      " 'scheduler': 'cosine',\n",
      " 'set_seed': 43,\n",
      " 'ssl_avail_y': 0,\n",
      " 'task': 'regression',\n",
      " 'train_mask_prob': 0,\n",
      " 'transformer_depth': 1,\n",
      " 'vision_dset': False}\n"
     ]
    }
   ],
   "source": [
    "# get the metadata for the run with the best metric\n",
    "import pprint\n",
    "# best_run = sorted_saint_runs[0]\n",
    "pprint.pprint(best_run.config)"
   ]
  },
  {
   "attachments": {},
   "cell_type": "markdown",
   "metadata": {},
   "source": [
    "# Get the data"
   ]
  },
  {
   "cell_type": "code",
   "execution_count": null,
   "metadata": {},
   "outputs": [],
   "source": [
    "import pandas as pd\n",
    "import numpy as np\n",
    "\n",
    "print(\"Reading the data...\")\n",
    "train = pd.read_parquet(\n",
    "    r\"/home/coenraadmiddel/Documents/RossmannStoreSales/TabNet/tabnet/train_processed.parquet\"\n",
    ")\n",
    "print(\"Read:\", train.shape)\n",
    "\n",
    "# select only a couple of columns\n",
    "\n",
    "train = train[\n",
    "    [\n",
    "        \"Store\",\n",
    "        \"DayOfWeek\",\n",
    "        \"Promo\",\n",
    "        \"StateHoliday\",\n",
    "        \"SchoolHoliday\",\n",
    "        \"StoreType\",\n",
    "        \"Assortment\",\n",
    "        \"CompetitionDistance\",\n",
    "        \"Promo2SinceWeek\",\n",
    "        \"Promo2SinceYear\",\n",
    "        \"Year\",\n",
    "        \"Month\",\n",
    "        \"Day\",\n",
    "        \"WeekOfYear\",\n",
    "        \"CompetitionOpen\",\n",
    "        \"PromoOpen\",\n",
    "        \"IsPromoMonth\",\n",
    "        \"Sales\",\n",
    "        \"Set\",\n",
    "    ]\n",
    "]\n",
    "\n",
    "\n",
    "if \"Set\" not in train.columns:\n",
    "    train.reset_index(inplace=True, drop=True)\n",
    "    train[\"Set\"] = np.random.choice(\n",
    "        [\"train\", \"valid\", \"test\"], p=[0.8, 0.1, 0.1], size=(train.shape[0],)\n",
    "    )\n",
    "\n",
    "train_indices = train[train.Set == \"train\"].index\n",
    "valid_indices = train[train.Set == \"valid\"].index\n",
    "test_indices = train[train.Set == \"test\"].index\n",
    "\n",
    "\n",
    "categorical_columns = [\n",
    "    \"Store\",\n",
    "    \"DayOfWeek\",\n",
    "    \"Promo\",\n",
    "    \"StateHoliday\",\n",
    "    \"SchoolHoliday\",\n",
    "    \"StoreType\",\n",
    "    \"Assortment\",\n",
    "    # 'Year',\n",
    "    # 'Month',\n",
    "    # 'Day',\n",
    "    # 'WeekOfYear',\n",
    "    \"IsPromoMonth\",\n",
    "]\n",
    "\n",
    "\n",
    "# split x and y\n",
    "X_all, y_all = train.drop(columns=[\"Sales\", \"Set\"]), np.log1p(train[[\"Sales\"]].values)\n",
    "\n",
    "temp = X_all.fillna(\"MissingValue\")\n",
    "nan_mask = temp.ne(\"MissingValue\").astype(int)\n",
    "\n",
    "X_train = X_all.iloc[train_indices]\n",
    "X_test = X_all.iloc[test_indices]\n",
    "X_valid = X_all.iloc[valid_indices]\n",
    "\n",
    "y_train = y_all[train_indices]\n",
    "y_test = y_all[test_indices]\n",
    "y_valid = y_all[valid_indices]"
   ]
  },
  {
   "cell_type": "code",
   "execution_count": null,
   "metadata": {},
   "outputs": [],
   "source": [
    "train[categorical_columns] = train[categorical_columns].astype('category')\n",
    "\n",
    "cat_idxs = [train.columns.get_loc(c) for c in categorical_columns if c in train]\n",
    "cat_dims = [len(train[c].cat.categories) for c in categorical_columns if c in train]\n",
    "cont_idxs = [i for i in range(X_train.shape[1]) if i not in cat_idxs]\n"
   ]
  },
  {
   "cell_type": "code",
   "execution_count": null,
   "metadata": {},
   "outputs": [],
   "source": [
    "\n",
    "#Load the SAINT model\n",
    "from models import SAINT\n",
    "import torch\n",
    "\n",
    "model = SAINT(\n",
    "    categories = cat_dims,\n",
    "    num_continuous = len(cont_idxs),\n",
    "    dim = best_run.config['embedding_size'],\n",
    "    dim_out = 1,\n",
    "    depth = best_run.config['transformer_depth'],\n",
    "    heads = best_run.config['attention_heads'],\n",
    "    attn_dropout = best_run.config['attention_dropout'],\n",
    "    ff_dropout = best_run.config['ff_dropout'],\n",
    "    mlp_hidden_mults = (4, 2),\n",
    "    cont_embeddings = best_run.config['cont_embeddings'],\n",
    "    attentiontype = best_run.config['attentiontype'],\n",
    "    final_mlp_style = best_run.config['final_mlp_style'],\n",
    "    y_dim = 1,\n",
    ")\n",
    "    \n",
    "\n",
    "model.load_state_dict(torch.load('/home/coenraadmiddel/Documents/RossmannStoreSales/SAINT/saint/artifacts/SAINT_model:v87/bestmodel.pth'))\n",
    "model.eval()\n"
   ]
  }
 ],
 "metadata": {
  "kernelspec": {
   "display_name": "saint_env",
   "language": "python",
   "name": "python3"
  },
  "language_info": {
   "codemirror_mode": {
    "name": "ipython",
    "version": 3
   },
   "file_extension": ".py",
   "mimetype": "text/x-python",
   "name": "python",
   "nbconvert_exporter": "python",
   "pygments_lexer": "ipython3",
   "version": "3.8.10"
  },
  "orig_nbformat": 4
 },
 "nbformat": 4,
 "nbformat_minor": 2
}
