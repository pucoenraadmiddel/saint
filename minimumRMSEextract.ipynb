{
 "cells": [
  {
   "cell_type": "code",
   "execution_count": 1,
   "metadata": {},
   "outputs": [],
   "source": [
    "import wandb\n",
    "import pandas as pd\n"
   ]
  },
  {
   "cell_type": "code",
   "execution_count": 10,
   "metadata": {},
   "outputs": [],
   "source": [
    "def get_min_rmse(run):\n",
    "    history = run.history()\n",
    "    rmse_columns = [col for col in history.columns if 'rmse' in col.lower()]\n",
    "\n",
    "    if len(rmse_columns) == 0:\n",
    "        print(f\"Run {run.id}: RMSE column not found.\")\n",
    "        return None\n",
    "    else:\n",
    "        min_rmse_values = {col: history[col].min() for col in rmse_columns}\n",
    "        return min_rmse_values\n"
   ]
  },
  {
   "cell_type": "code",
   "execution_count": 7,
   "metadata": {},
   "outputs": [],
   "source": [
    "entity = \"middelman\"  # Your W&B username or team name\n",
    "project = \"tabnet_rossmann_mse\"\n",
    "sweep_id = \"9pn4u52e\"\n",
    "\n",
    "sweep = wandb.Api().sweep(f\"{entity}/{project}/{sweep_id}\")\n",
    "runs = sweep.runs\n"
   ]
  },
  {
   "cell_type": "code",
   "execution_count": 14,
   "metadata": {},
   "outputs": [
    {
     "name": "stdout",
     "output_type": "stream",
     "text": [
      "Run u7uzlkmq: Minimum RMSE values logged: {'orig_valid_rmse': 831.4379476533321, 'orig_test_rmse': 827.5847663934265, 'orig_train_rmse': 765.545254715896, 'train_rmse': 0.10619280790136619, 'valid_rmse': 0.11492796174971306, 'test_rmse': 0.11485663304615587}\n",
      "Run py3x9b50: Minimum RMSE values logged: {'orig_valid_rmse': 772.0637639449925, 'orig_test_rmse': 773.6468160476002, 'orig_train_rmse': 655.3153984096432, 'train_rmse': 0.08972635651165038, 'valid_rmse': 0.1061234612100509, 'test_rmse': 0.10687187195043481}\n",
      "Run fpxvay6u: Minimum RMSE values logged: {'orig_valid_rmse': 1091.7961485183334, 'orig_test_rmse': 1085.6413670571594, 'orig_train_rmse': 1081.6153565140307, 'train_rmse': 0.14488884734644983, 'valid_rmse': 0.14610649630624803, 'test_rmse': 0.1461182302690913}\n",
      "Run s1ryf2wy: Minimum RMSE values logged: {'orig_valid_rmse': 761.6582740171257, 'orig_test_rmse': 756.4675515983201, 'orig_train_rmse': 675.4973274258657, 'train_rmse': 0.09296179348409814, 'valid_rmse': 0.10472259017132507, 'test_rmse': 0.10477241573620377}\n",
      "Run fldrkgxk: Minimum RMSE values logged: {'orig_valid_rmse': 1194.742959808675, 'orig_test_rmse': 1184.713269834802, 'orig_train_rmse': 1180.2056368852661, 'train_rmse': 0.1679931758337957, 'valid_rmse': 0.16854044413389677, 'test_rmse': 0.16827044712661687}\n",
      "Run a2y5rkjv: Minimum RMSE values logged: {'orig_valid_rmse': 791.9212547396207, 'orig_test_rmse': 782.9179133263656, 'orig_train_rmse': 740.5157815569313, 'train_rmse': 0.10341588666340967, 'valid_rmse': 0.11008489454210847, 'test_rmse': 0.11018631060712872}\n",
      "Run 7c4cbvzd: Minimum RMSE values logged: {'orig_valid_rmse': 770.6375125475226, 'orig_test_rmse': 769.0250089735092, 'orig_train_rmse': 634.3987452163365, 'train_rmse': 0.08817847643894498, 'valid_rmse': 0.10609412813097704, 'test_rmse': 0.10635734443450551}\n",
      "Run j4jm9s0i: Minimum RMSE values logged: {'orig_valid_rmse': 819.6119091013588, 'orig_test_rmse': 819.7248513681078, 'orig_train_rmse': 778.1715349374334, 'train_rmse': 0.10990625731515875, 'valid_rmse': 0.11497744977224422, 'test_rmse': 0.11537284921520713}\n",
      "Run hada4g9w: Minimum RMSE values logged: {'orig_valid_rmse': 1409.1834242630098, 'orig_test_rmse': 1386.5476563979582, 'orig_train_rmse': 1390.8083925933834, 'train_rmse': 0.1932154829002039, 'valid_rmse': 0.19465292571874954, 'test_rmse': 0.19305846011991665}\n",
      "Run 7qyc9q97: Minimum RMSE values logged: {'orig_valid_rmse': 1823.9927445806647, 'orig_test_rmse': 1832.240657300854, 'orig_train_rmse': 1821.8149322256304, 'train_rmse': 0.2622796242658022, 'valid_rmse': 0.2619660480977067, 'test_rmse': 0.2626372517734424}\n",
      "Run ns2wy9g6: RMSE column not found.\n",
      "Run ns2wy9g6: Minimum RMSE values not logged due to\n",
      "Run dq2gqj8k: RMSE column not found.\n",
      "Run dq2gqj8k: Minimum RMSE values not logged due to\n",
      "Run t06jnpdv: Minimum RMSE values logged: {'orig_valid_rmse': 827.2908419104942, 'orig_test_rmse': 824.2559807398593, 'orig_train_rmse': 784.3402647326293, 'train_rmse': 0.10907568705132493, 'valid_rmse': 0.11441205200871399, 'test_rmse': 0.11471686812421922}\n",
      "Run 57fjpdhh: RMSE column not found.\n",
      "Run 57fjpdhh: Minimum RMSE values not logged due to\n",
      "Run 4w5j85of: Minimum RMSE values logged: {'orig_valid_rmse': 1229.7788788595412, 'orig_test_rmse': 1228.512719019259, 'orig_train_rmse': 1226.3571411810517, 'train_rmse': 0.1742408267276658, 'valid_rmse': 0.1739919391563521, 'test_rmse': 0.1740457508449839}\n",
      "Run g7i3zs1h: Minimum RMSE values logged: {'orig_valid_rmse': 728.6332736517717, 'orig_test_rmse': 728.208921270319, 'orig_train_rmse': 585.1604130332756, 'train_rmse': 0.08159467182683999, 'valid_rmse': 0.10159361688811436, 'test_rmse': 0.10141670809177664}\n",
      "Run e5nq95f5: RMSE column not found.\n",
      "Run e5nq95f5: Minimum RMSE values not logged due to\n",
      "Run d3pxc78s: Minimum RMSE values logged: {'orig_valid_rmse': 944.0886043264046, 'orig_test_rmse': 938.5064358122214, 'orig_train_rmse': 915.359364963412, 'train_rmse': 0.1280545478036154, 'valid_rmse': 0.1305102335156435, 'test_rmse': 0.1306718409968685}\n",
      "Run kq6w83h1: RMSE column not found.\n",
      "Run kq6w83h1: Minimum RMSE values not logged due to\n",
      "Run rq3hagq5: Minimum RMSE values logged: {'orig_valid_rmse': 1249.7236701801203, 'orig_test_rmse': 1251.1007252399274, 'orig_train_rmse': 1243.7668994078422, 'train_rmse': 0.16125173878470106, 'valid_rmse': 0.16207201460712792, 'test_rmse': 0.16215656519276558}\n",
      "Run blcdr0r5: Minimum RMSE values logged: {'orig_valid_rmse': 1358.9908312661203, 'orig_test_rmse': 1354.9549059821084, 'orig_train_rmse': 1347.4224373071445, 'train_rmse': 0.18383761623950826, 'valid_rmse': 0.18510053236285856, 'test_rmse': 0.1841835653421256}\n",
      "Run fagu8ioy: RMSE column not found.\n",
      "Run fagu8ioy: Minimum RMSE values not logged due to\n",
      "Run bxtimil5: Minimum RMSE values logged: {'orig_valid_rmse': 805.1990383128157, 'orig_test_rmse': 803.7190578254684, 'orig_train_rmse': 741.9739120674498, 'train_rmse': 0.10059270821643028, 'valid_rmse': 0.10924243447781708, 'test_rmse': 0.10963188448754067}\n",
      "Run n99e2neh: Minimum RMSE values logged: {'orig_valid_rmse': 798.3666340540568, 'orig_test_rmse': 794.4885146978545, 'orig_train_rmse': 721.4360124235797, 'train_rmse': 0.09996403802887736, 'valid_rmse': 0.11004485501244346, 'test_rmse': 0.11020329519311531}\n",
      "Run o77tkuxv: Minimum RMSE values logged: {'orig_valid_rmse': 873.8600718704342, 'orig_test_rmse': 866.235063976753, 'orig_train_rmse': 823.3455804471747, 'train_rmse': 0.11241429400229713, 'valid_rmse': 0.11923864281363747, 'test_rmse': 0.1195622483416855}\n",
      "Run iyl142mo: Minimum RMSE values logged: {'orig_valid_rmse': 763.1666647220716, 'orig_test_rmse': 759.3112160817278, 'orig_train_rmse': 688.4534976850468, 'train_rmse': 0.09507751902415773, 'valid_rmse': 0.10488487464443523, 'test_rmse': 0.10522019743496644}\n",
      "Run wfsib2kr: Minimum RMSE values logged: {'orig_valid_rmse': 732.950378207791, 'orig_test_rmse': 728.57663501844, 'orig_train_rmse': 587.3452429266597, 'train_rmse': 0.08339159848985807, 'valid_rmse': 0.10230967050688368, 'test_rmse': 0.10230095758949055}\n",
      "Run njsi8072: Minimum RMSE values logged: {'orig_valid_rmse': 1203.6885025075476, 'orig_test_rmse': 1200.1608036153289, 'orig_train_rmse': 1190.018992558065, 'train_rmse': 0.16313653347772444, 'valid_rmse': 0.16413121796169047, 'test_rmse': 0.16408108703941507}\n",
      "Run z6ioxe1u: Minimum RMSE values logged: {'orig_valid_rmse': 1321.0964002197848, 'orig_test_rmse': 1313.7915053172826, 'orig_train_rmse': 1312.517278070284, 'train_rmse': 0.17927938643520686, 'valid_rmse': 0.17970299198170836, 'test_rmse': 0.17939679391476956}\n",
      "Run nig1xit0: Minimum RMSE values logged: {'orig_valid_rmse': 1090.4832785531366, 'orig_test_rmse': 1084.1835538577204, 'orig_train_rmse': 1075.230745910741, 'train_rmse': 0.15028088238654616, 'valid_rmse': 0.15151409181623277, 'test_rmse': 0.15149311318625547}\n",
      "Run 7tbck98m: Minimum RMSE values logged: {'orig_valid_rmse': 1033.9058908875827, 'orig_test_rmse': 1036.6927805580303, 'orig_train_rmse': 1004.1074307169489, 'train_rmse': 0.13987834438804442, 'valid_rmse': 0.14222836456355478, 'test_rmse': 0.14255225660493406}\n",
      "Run gem47jfp: RMSE column not found.\n",
      "Run gem47jfp: Minimum RMSE values not logged due to\n",
      "Run t6gh7g2p: RMSE column not found.\n",
      "Run t6gh7g2p: Minimum RMSE values not logged due to\n",
      "Run f2z3ekrl: Minimum RMSE values logged: {'orig_valid_rmse': 896.3022038799309, 'orig_test_rmse': 896.5287507264648, 'orig_train_rmse': 849.1689291125982, 'train_rmse': 0.11482736309346814, 'valid_rmse': 0.12026840967211176, 'test_rmse': 0.12203500711200853}\n",
      "Run kev2h941: RMSE column not found.\n",
      "Run kev2h941: Minimum RMSE values not logged due to\n",
      "Run egl0n4gh: RMSE column not found.\n",
      "Run egl0n4gh: Minimum RMSE values not logged due to\n",
      "Run zm08sldd: Minimum RMSE values logged: {'orig_valid_rmse': 1373.7316240583764, 'orig_test_rmse': 1363.7740103717867, 'orig_train_rmse': 1361.3685619408589, 'train_rmse': 0.1958008837597812, 'valid_rmse': 0.19646751983582475, 'test_rmse': 0.19541398359171908}\n",
      "Run va4jhgnh: Minimum RMSE values logged: {'orig_valid_rmse': 1149.7672785442787, 'orig_test_rmse': 1150.7593126964584, 'orig_train_rmse': 1143.8238066098963, 'train_rmse': 0.15844659195273586, 'valid_rmse': 0.15889060630242066, 'test_rmse': 0.15903715973303173}\n"
     ]
    }
   ],
   "source": [
    "for run in runs:\n",
    "    min_rmse_values = get_min_rmse(run)\n",
    "\n",
    "    if min_rmse_values is not None:\n",
    "        # Log the minimum RMSE for each column back to the run\n",
    "        metadata = {f\"min_{col}\": min_rmse for col, min_rmse in min_rmse_values.items()}\n",
    "        run.summary.update(metadata)\n",
    "        run.update()\n",
    "        print(f\"Run {run.id}: Minimum RMSE values logged: {min_rmse_values}\")\n",
    "    else:\n",
    "        print(f\"Run {run.id}: Minimum RMSE values not logged due to\")\n"
   ]
  },
  {
   "cell_type": "code",
   "execution_count": null,
   "metadata": {},
   "outputs": [],
   "source": []
  }
 ],
 "metadata": {
  "kernelspec": {
   "display_name": "saint_env",
   "language": "python",
   "name": "python3"
  },
  "language_info": {
   "codemirror_mode": {
    "name": "ipython",
    "version": 3
   },
   "file_extension": ".py",
   "mimetype": "text/x-python",
   "name": "python",
   "nbconvert_exporter": "python",
   "pygments_lexer": "ipython3",
   "version": "3.8.10"
  },
  "orig_nbformat": 4
 },
 "nbformat": 4,
 "nbformat_minor": 2
}
